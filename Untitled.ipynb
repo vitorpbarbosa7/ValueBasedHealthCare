{
 "cells": [
  {
   "cell_type": "code",
   "execution_count": 2,
   "metadata": {},
   "outputs": [],
   "source": [
    "import pandas as pd\n",
    "import matplotlib.pyplot as plt\n",
    "import seaborn as sns\n",
    "import numpy as np"
   ]
  },
  {
   "cell_type": "markdown",
   "metadata": {},
   "source": [
    "##### Planilha só abre se estiver fechada no excel (neste caso de read_excel direto do xlsx)"
   ]
  },
  {
   "cell_type": "code",
   "execution_count": 37,
   "metadata": {},
   "outputs": [],
   "source": [
    "data = pd.read_excel(io = 'EDA_v1.xlsx', sheet_name = 'data')"
   ]
  },
  {
   "cell_type": "markdown",
   "metadata": {},
   "source": [
    "## Contabilizar quantos valores faltantes há em cada coluna"
   ]
  },
  {
   "cell_type": "code",
   "execution_count": 45,
   "metadata": {},
   "outputs": [],
   "source": [
    "faltantes = pd.DataFrame(data.isna().sum(axis = 0), columns = ['faltantes'])"
   ]
  },
  {
   "cell_type": "code",
   "execution_count": 52,
   "metadata": {},
   "outputs": [],
   "source": [
    "#Permitir ver todas as linhas\n",
    "pd.options.display.max_rows = None"
   ]
  },
  {
   "cell_type": "code",
   "execution_count": 51,
   "metadata": {},
   "outputs": [
    {
     "data": {
      "text/html": [
       "<div>\n",
       "<style scoped>\n",
       "    .dataframe tbody tr th:only-of-type {\n",
       "        vertical-align: middle;\n",
       "    }\n",
       "\n",
       "    .dataframe tbody tr th {\n",
       "        vertical-align: top;\n",
       "    }\n",
       "\n",
       "    .dataframe thead th {\n",
       "        text-align: right;\n",
       "    }\n",
       "</style>\n",
       "<table border=\"1\" class=\"dataframe\">\n",
       "  <thead>\n",
       "    <tr style=\"text-align: right;\">\n",
       "      <th></th>\n",
       "      <th>faltantes</th>\n",
       "    </tr>\n",
       "  </thead>\n",
       "  <tbody>\n",
       "    <tr>\n",
       "      <td>BPI_7e_v1</td>\n",
       "      <td>236</td>\n",
       "    </tr>\n",
       "    <tr>\n",
       "      <td>Se_SIM_tempo</td>\n",
       "      <td>234</td>\n",
       "    </tr>\n",
       "    <tr>\n",
       "      <td>BPI_7d_v1</td>\n",
       "      <td>231</td>\n",
       "    </tr>\n",
       "    <tr>\n",
       "      <td>BPI_2j_v1</td>\n",
       "      <td>228</td>\n",
       "    </tr>\n",
       "    <tr>\n",
       "      <td>BPI_7c_v1</td>\n",
       "      <td>223</td>\n",
       "    </tr>\n",
       "    <tr>\n",
       "      <td>...</td>\n",
       "      <td>...</td>\n",
       "    </tr>\n",
       "    <tr>\n",
       "      <td>BPI_4_v1</td>\n",
       "      <td>4</td>\n",
       "    </tr>\n",
       "    <tr>\n",
       "      <td>BPI_3_v1</td>\n",
       "      <td>4</td>\n",
       "    </tr>\n",
       "    <tr>\n",
       "      <td>Estado_nascimento</td>\n",
       "      <td>2</td>\n",
       "    </tr>\n",
       "    <tr>\n",
       "      <td>Sexo</td>\n",
       "      <td>0</td>\n",
       "    </tr>\n",
       "    <tr>\n",
       "      <td>ID</td>\n",
       "      <td>0</td>\n",
       "    </tr>\n",
       "  </tbody>\n",
       "</table>\n",
       "<p>121 rows × 1 columns</p>\n",
       "</div>"
      ],
      "text/plain": [
       "                   faltantes\n",
       "BPI_7e_v1                236\n",
       "Se_SIM_tempo             234\n",
       "BPI_7d_v1                231\n",
       "BPI_2j_v1                228\n",
       "BPI_7c_v1                223\n",
       "...                      ...\n",
       "BPI_4_v1                   4\n",
       "BPI_3_v1                   4\n",
       "Estado_nascimento          2\n",
       "Sexo                       0\n",
       "ID                         0\n",
       "\n",
       "[121 rows x 1 columns]"
      ]
     },
     "execution_count": 51,
     "metadata": {},
     "output_type": "execute_result"
    }
   ],
   "source": [
    "faltantes.sort_values(by = 'faltantes', ascending = False)"
   ]
  },
  {
   "cell_type": "markdown",
   "metadata": {},
   "source": [
    "# Teste de correlaçaõ das dores\n",
    "### Uma questão é: Da maneira que os dados estão estruturados, esta correlação faz sentido? \n",
    "\n",
    "- Cada coluna contém uma pontuação de 0 a 10 do quanto a pessoa sente dor nas costas ou nas pernas. O que seria o VAS? \n",
    "- Correlação pela pontuação, acho que faz sentido sim "
   ]
  },
  {
   "cell_type": "code",
   "execution_count": 8,
   "metadata": {},
   "outputs": [],
   "source": [
    "data = pd.read_excel(io = 'EDA_v2.xlsx', sheet_name = 'TabelaDores')"
   ]
  },
  {
   "cell_type": "code",
   "execution_count": 9,
   "metadata": {},
   "outputs": [
    {
     "data": {
      "text/html": [
       "<div>\n",
       "<style scoped>\n",
       "    .dataframe tbody tr th:only-of-type {\n",
       "        vertical-align: middle;\n",
       "    }\n",
       "\n",
       "    .dataframe tbody tr th {\n",
       "        vertical-align: top;\n",
       "    }\n",
       "\n",
       "    .dataframe thead th {\n",
       "        text-align: right;\n",
       "    }\n",
       "</style>\n",
       "<table border=\"1\" class=\"dataframe\">\n",
       "  <thead>\n",
       "    <tr style=\"text-align: right;\">\n",
       "      <th></th>\n",
       "      <th>DOR A</th>\n",
       "      <th>Dor_costas</th>\n",
       "      <th>Dor_costas_VAS</th>\n",
       "      <th>Dor_pernas</th>\n",
       "      <th>Dor_pernas_VAS</th>\n",
       "    </tr>\n",
       "  </thead>\n",
       "  <tbody>\n",
       "    <tr>\n",
       "      <td>DOR A</td>\n",
       "      <td>1.000000</td>\n",
       "      <td>0.250366</td>\n",
       "      <td>0.305192</td>\n",
       "      <td>0.398881</td>\n",
       "      <td>0.430418</td>\n",
       "    </tr>\n",
       "    <tr>\n",
       "      <td>Dor_costas</td>\n",
       "      <td>0.250366</td>\n",
       "      <td>1.000000</td>\n",
       "      <td>0.763869</td>\n",
       "      <td>0.363353</td>\n",
       "      <td>0.359605</td>\n",
       "    </tr>\n",
       "    <tr>\n",
       "      <td>Dor_costas_VAS</td>\n",
       "      <td>0.305192</td>\n",
       "      <td>0.763869</td>\n",
       "      <td>1.000000</td>\n",
       "      <td>0.438467</td>\n",
       "      <td>0.504636</td>\n",
       "    </tr>\n",
       "    <tr>\n",
       "      <td>Dor_pernas</td>\n",
       "      <td>0.398881</td>\n",
       "      <td>0.363353</td>\n",
       "      <td>0.438467</td>\n",
       "      <td>1.000000</td>\n",
       "      <td>0.902720</td>\n",
       "    </tr>\n",
       "    <tr>\n",
       "      <td>Dor_pernas_VAS</td>\n",
       "      <td>0.430418</td>\n",
       "      <td>0.359605</td>\n",
       "      <td>0.504636</td>\n",
       "      <td>0.902720</td>\n",
       "      <td>1.000000</td>\n",
       "    </tr>\n",
       "  </tbody>\n",
       "</table>\n",
       "</div>"
      ],
      "text/plain": [
       "                  DOR A   Dor_costas  Dor_costas_VAS  Dor_pernas  \\\n",
       "DOR A           1.000000    0.250366        0.305192    0.398881   \n",
       "Dor_costas      0.250366    1.000000        0.763869    0.363353   \n",
       "Dor_costas_VAS  0.305192    0.763869        1.000000    0.438467   \n",
       "Dor_pernas      0.398881    0.363353        0.438467    1.000000   \n",
       "Dor_pernas_VAS  0.430418    0.359605        0.504636    0.902720   \n",
       "\n",
       "                Dor_pernas_VAS  \n",
       "DOR A                 0.430418  \n",
       "Dor_costas            0.359605  \n",
       "Dor_costas_VAS        0.504636  \n",
       "Dor_pernas            0.902720  \n",
       "Dor_pernas_VAS        1.000000  "
      ]
     },
     "execution_count": 9,
     "metadata": {},
     "output_type": "execute_result"
    }
   ],
   "source": [
    "data.drop('ID', axis = 1).corr()"
   ]
  },
  {
   "cell_type": "code",
   "execution_count": null,
   "metadata": {},
   "outputs": [],
   "source": []
  }
 ],
 "metadata": {
  "kernelspec": {
   "display_name": "Python 3",
   "language": "python",
   "name": "python3"
  },
  "language_info": {
   "codemirror_mode": {
    "name": "ipython",
    "version": 3
   },
   "file_extension": ".py",
   "mimetype": "text/x-python",
   "name": "python",
   "nbconvert_exporter": "python",
   "pygments_lexer": "ipython3",
   "version": "3.7.4"
  }
 },
 "nbformat": 4,
 "nbformat_minor": 2
}
