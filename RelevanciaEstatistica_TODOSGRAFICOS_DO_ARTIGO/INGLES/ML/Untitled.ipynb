{
 "cells": [
  {
   "cell_type": "code",
   "execution_count": 1,
   "metadata": {},
   "outputs": [],
   "source": [
    "import pandas as pd \n",
    "import seaborn as sns\n",
    "import matplotlib.pyplot as plt \n",
    "import numpy as np"
   ]
  },
  {
   "cell_type": "code",
   "execution_count": 101,
   "metadata": {},
   "outputs": [],
   "source": [
    "data = pd.read_csv('data/fewmissing.csv', sep = ';')"
   ]
  },
  {
   "cell_type": "code",
   "execution_count": 102,
   "metadata": {},
   "outputs": [
    {
     "data": {
      "text/html": [
       "<div>\n",
       "<style scoped>\n",
       "    .dataframe tbody tr th:only-of-type {\n",
       "        vertical-align: middle;\n",
       "    }\n",
       "\n",
       "    .dataframe tbody tr th {\n",
       "        vertical-align: top;\n",
       "    }\n",
       "\n",
       "    .dataframe thead th {\n",
       "        text-align: right;\n",
       "    }\n",
       "</style>\n",
       "<table border=\"1\" class=\"dataframe\">\n",
       "  <thead>\n",
       "    <tr style=\"text-align: right;\">\n",
       "      <th></th>\n",
       "      <th>Fuma</th>\n",
       "      <th>Aposentado</th>\n",
       "      <th>Desempregado</th>\n",
       "      <th>Licenca_Medica</th>\n",
       "      <th>Aposentado_Invalidez</th>\n",
       "      <th>Alg.e9.sicos</th>\n",
       "      <th>OutraDoenca</th>\n",
       "      <th>Dor_costas</th>\n",
       "      <th>Dor_pers</th>\n",
       "      <th>Retorr_trabalho</th>\n",
       "      <th>...</th>\n",
       "      <th>SF12_M1_3_v1</th>\n",
       "      <th>SF12_M1_4_v1</th>\n",
       "      <th>SF12_M1_5_v1</th>\n",
       "      <th>SF12_M1_6_v1</th>\n",
       "      <th>SF12_M1_7_v1</th>\n",
       "      <th>SF12_M1_8_v1</th>\n",
       "      <th>SF12_M1_9_v1</th>\n",
       "      <th>SF12_M1_10_v1</th>\n",
       "      <th>SF12_M1_11_v1</th>\n",
       "      <th>SF12_M1_12_v1</th>\n",
       "    </tr>\n",
       "  </thead>\n",
       "  <tbody>\n",
       "    <tr>\n",
       "      <td>48</td>\n",
       "      <td>0.0</td>\n",
       "      <td>0.0</td>\n",
       "      <td>0.0</td>\n",
       "      <td>1.0</td>\n",
       "      <td>0.0</td>\n",
       "      <td>0.0</td>\n",
       "      <td>1.0</td>\n",
       "      <td>1.0</td>\n",
       "      <td>1.0</td>\n",
       "      <td>0.0</td>\n",
       "      <td>...</td>\n",
       "      <td>3</td>\n",
       "      <td>5</td>\n",
       "      <td>5</td>\n",
       "      <td>5</td>\n",
       "      <td>5</td>\n",
       "      <td>1</td>\n",
       "      <td>5</td>\n",
       "      <td>5</td>\n",
       "      <td>5</td>\n",
       "      <td>5</td>\n",
       "    </tr>\n",
       "    <tr>\n",
       "      <td>20</td>\n",
       "      <td>1.0</td>\n",
       "      <td>1.0</td>\n",
       "      <td>0.0</td>\n",
       "      <td>0.0</td>\n",
       "      <td>0.0</td>\n",
       "      <td>0.0</td>\n",
       "      <td>0.0</td>\n",
       "      <td>0.0</td>\n",
       "      <td>0.0</td>\n",
       "      <td>0.0</td>\n",
       "      <td>...</td>\n",
       "      <td>3</td>\n",
       "      <td>5</td>\n",
       "      <td>5</td>\n",
       "      <td>5</td>\n",
       "      <td>5</td>\n",
       "      <td>1</td>\n",
       "      <td>5</td>\n",
       "      <td>5</td>\n",
       "      <td>5</td>\n",
       "      <td>5</td>\n",
       "    </tr>\n",
       "    <tr>\n",
       "      <td>108</td>\n",
       "      <td>0.0</td>\n",
       "      <td>0.0</td>\n",
       "      <td>0.0</td>\n",
       "      <td>0.0</td>\n",
       "      <td>0.0</td>\n",
       "      <td>1.0</td>\n",
       "      <td>0.0</td>\n",
       "      <td>0.0</td>\n",
       "      <td>0.0</td>\n",
       "      <td>0.0</td>\n",
       "      <td>...</td>\n",
       "      <td>3</td>\n",
       "      <td>5</td>\n",
       "      <td>5</td>\n",
       "      <td>5</td>\n",
       "      <td>5</td>\n",
       "      <td>1</td>\n",
       "      <td>5</td>\n",
       "      <td>5</td>\n",
       "      <td>5</td>\n",
       "      <td>5</td>\n",
       "    </tr>\n",
       "    <tr>\n",
       "      <td>51</td>\n",
       "      <td>0.0</td>\n",
       "      <td>0.0</td>\n",
       "      <td>0.0</td>\n",
       "      <td>0.0</td>\n",
       "      <td>0.0</td>\n",
       "      <td>1.0</td>\n",
       "      <td>1.0</td>\n",
       "      <td>0.0</td>\n",
       "      <td>0.0</td>\n",
       "      <td>0.0</td>\n",
       "      <td>...</td>\n",
       "      <td>3</td>\n",
       "      <td>5</td>\n",
       "      <td>5</td>\n",
       "      <td>5</td>\n",
       "      <td>5</td>\n",
       "      <td>1</td>\n",
       "      <td>5</td>\n",
       "      <td>5</td>\n",
       "      <td>5</td>\n",
       "      <td>5</td>\n",
       "    </tr>\n",
       "    <tr>\n",
       "      <td>38</td>\n",
       "      <td>0.0</td>\n",
       "      <td>0.0</td>\n",
       "      <td>0.0</td>\n",
       "      <td>0.0</td>\n",
       "      <td>0.0</td>\n",
       "      <td>0.0</td>\n",
       "      <td>1.0</td>\n",
       "      <td>0.0</td>\n",
       "      <td>1.0</td>\n",
       "      <td>1.0</td>\n",
       "      <td>...</td>\n",
       "      <td>2</td>\n",
       "      <td>3</td>\n",
       "      <td>3</td>\n",
       "      <td>4</td>\n",
       "      <td>4</td>\n",
       "      <td>3</td>\n",
       "      <td>3</td>\n",
       "      <td>3</td>\n",
       "      <td>3</td>\n",
       "      <td>3</td>\n",
       "    </tr>\n",
       "  </tbody>\n",
       "</table>\n",
       "<p>5 rows × 131 columns</p>\n",
       "</div>"
      ],
      "text/plain": [
       "     Fuma  Aposentado  Desempregado  Licenca_Medica  Aposentado_Invalidez  \\\n",
       "48    0.0         0.0           0.0             1.0                   0.0   \n",
       "20    1.0         1.0           0.0             0.0                   0.0   \n",
       "108   0.0         0.0           0.0             0.0                   0.0   \n",
       "51    0.0         0.0           0.0             0.0                   0.0   \n",
       "38    0.0         0.0           0.0             0.0                   0.0   \n",
       "\n",
       "     Alg.e9.sicos  OutraDoenca  Dor_costas  Dor_pers  Retorr_trabalho  ...  \\\n",
       "48            0.0          1.0         1.0       1.0              0.0  ...   \n",
       "20            0.0          0.0         0.0       0.0              0.0  ...   \n",
       "108           1.0          0.0         0.0       0.0              0.0  ...   \n",
       "51            1.0          1.0         0.0       0.0              0.0  ...   \n",
       "38            0.0          1.0         0.0       1.0              1.0  ...   \n",
       "\n",
       "     SF12_M1_3_v1  SF12_M1_4_v1  SF12_M1_5_v1  SF12_M1_6_v1  SF12_M1_7_v1  \\\n",
       "48              3             5             5             5             5   \n",
       "20              3             5             5             5             5   \n",
       "108             3             5             5             5             5   \n",
       "51              3             5             5             5             5   \n",
       "38              2             3             3             4             4   \n",
       "\n",
       "     SF12_M1_8_v1  SF12_M1_9_v1  SF12_M1_10_v1  SF12_M1_11_v1  SF12_M1_12_v1  \n",
       "48              1             5              5              5              5  \n",
       "20              1             5              5              5              5  \n",
       "108             1             5              5              5              5  \n",
       "51              1             5              5              5              5  \n",
       "38              3             3              3              3              3  \n",
       "\n",
       "[5 rows x 131 columns]"
      ]
     },
     "execution_count": 102,
     "metadata": {},
     "output_type": "execute_result"
    }
   ],
   "source": [
    "data.sample(5)"
   ]
  },
  {
   "cell_type": "markdown",
   "metadata": {},
   "source": [
    "### Imputar mediana para valores faltantes"
   ]
  },
  {
   "cell_type": "code",
   "execution_count": 103,
   "metadata": {},
   "outputs": [],
   "source": [
    "from sklearn.impute import SimpleImputer"
   ]
  },
  {
   "cell_type": "code",
   "execution_count": 104,
   "metadata": {},
   "outputs": [],
   "source": [
    "imp = SimpleImputer(missing_values = np.nan, strategy = 'median')"
   ]
  },
  {
   "cell_type": "code",
   "execution_count": 105,
   "metadata": {},
   "outputs": [
    {
     "data": {
      "text/plain": [
       "SimpleImputer(add_indicator=False, copy=True, fill_value=None,\n",
       "              missing_values=nan, strategy='median', verbose=0)"
      ]
     },
     "execution_count": 105,
     "metadata": {},
     "output_type": "execute_result"
    }
   ],
   "source": [
    "imp.fit(data)"
   ]
  },
  {
   "cell_type": "code",
   "execution_count": 106,
   "metadata": {},
   "outputs": [],
   "source": [
    "data_nonan = pd.DataFrame(imp.transform(data), columns = list(data))"
   ]
  },
  {
   "cell_type": "code",
   "execution_count": 107,
   "metadata": {},
   "outputs": [
    {
     "data": {
      "text/plain": [
       "0"
      ]
     },
     "execution_count": 107,
     "metadata": {},
     "output_type": "execute_result"
    }
   ],
   "source": [
    "data_nonan.isnull().sum().sum()"
   ]
  },
  {
   "cell_type": "code",
   "execution_count": 108,
   "metadata": {},
   "outputs": [],
   "source": [
    "data_bin = data_nonan.iloc[:,np.r_[0:97]]\n",
    "data_ord = data_nonan.iloc[:,np.r_[98:data_nonan.shape[1]]]"
   ]
  },
  {
   "cell_type": "markdown",
   "metadata": {},
   "source": [
    "### Normalização dos ordinais"
   ]
  },
  {
   "cell_type": "code",
   "execution_count": 109,
   "metadata": {},
   "outputs": [],
   "source": [
    "from sklearn.preprocessing import StandardScaler\n",
    "ss = StandardScaler()"
   ]
  },
  {
   "cell_type": "code",
   "execution_count": 110,
   "metadata": {},
   "outputs": [
    {
     "data": {
      "text/plain": [
       "StandardScaler(copy=True, with_mean=True, with_std=True)"
      ]
     },
     "execution_count": 110,
     "metadata": {},
     "output_type": "execute_result"
    }
   ],
   "source": [
    "ss.fit(data_ord)"
   ]
  },
  {
   "cell_type": "code",
   "execution_count": 111,
   "metadata": {},
   "outputs": [],
   "source": [
    "data_ord_ss = pd.DataFrame(ss.transform(data_ord), columns = list(data_ord))"
   ]
  },
  {
   "cell_type": "code",
   "execution_count": 112,
   "metadata": {},
   "outputs": [],
   "source": [
    "data_pca = pd.concat([data_bin,data_ord_ss], axis = 1)"
   ]
  },
  {
   "cell_type": "code",
   "execution_count": 113,
   "metadata": {},
   "outputs": [
    {
     "data": {
      "text/html": [
       "<div>\n",
       "<style scoped>\n",
       "    .dataframe tbody tr th:only-of-type {\n",
       "        vertical-align: middle;\n",
       "    }\n",
       "\n",
       "    .dataframe tbody tr th {\n",
       "        vertical-align: top;\n",
       "    }\n",
       "\n",
       "    .dataframe thead th {\n",
       "        text-align: right;\n",
       "    }\n",
       "</style>\n",
       "<table border=\"1\" class=\"dataframe\">\n",
       "  <thead>\n",
       "    <tr style=\"text-align: right;\">\n",
       "      <th></th>\n",
       "      <th>Fuma</th>\n",
       "      <th>Aposentado</th>\n",
       "      <th>Desempregado</th>\n",
       "      <th>Licenca_Medica</th>\n",
       "      <th>Aposentado_Invalidez</th>\n",
       "      <th>Alg.e9.sicos</th>\n",
       "      <th>OutraDoenca</th>\n",
       "      <th>Dor_costas</th>\n",
       "      <th>Dor_pers</th>\n",
       "      <th>Retorr_trabalho</th>\n",
       "      <th>...</th>\n",
       "      <th>SF12_M1_3_v1</th>\n",
       "      <th>SF12_M1_4_v1</th>\n",
       "      <th>SF12_M1_5_v1</th>\n",
       "      <th>SF12_M1_6_v1</th>\n",
       "      <th>SF12_M1_7_v1</th>\n",
       "      <th>SF12_M1_8_v1</th>\n",
       "      <th>SF12_M1_9_v1</th>\n",
       "      <th>SF12_M1_10_v1</th>\n",
       "      <th>SF12_M1_11_v1</th>\n",
       "      <th>SF12_M1_12_v1</th>\n",
       "    </tr>\n",
       "  </thead>\n",
       "  <tbody>\n",
       "    <tr>\n",
       "      <td>0</td>\n",
       "      <td>1.0</td>\n",
       "      <td>0.0</td>\n",
       "      <td>1.0</td>\n",
       "      <td>0.0</td>\n",
       "      <td>1.0</td>\n",
       "      <td>1.0</td>\n",
       "      <td>1.0</td>\n",
       "      <td>1.0</td>\n",
       "      <td>1.0</td>\n",
       "      <td>1.0</td>\n",
       "      <td>...</td>\n",
       "      <td>-1.762787</td>\n",
       "      <td>-1.598078</td>\n",
       "      <td>-1.798941</td>\n",
       "      <td>-2.030623</td>\n",
       "      <td>-2.027363</td>\n",
       "      <td>1.851836</td>\n",
       "      <td>-1.708677</td>\n",
       "      <td>-0.765169</td>\n",
       "      <td>-1.835898</td>\n",
       "      <td>-1.913475</td>\n",
       "    </tr>\n",
       "    <tr>\n",
       "      <td>1</td>\n",
       "      <td>1.0</td>\n",
       "      <td>0.0</td>\n",
       "      <td>0.0</td>\n",
       "      <td>1.0</td>\n",
       "      <td>1.0</td>\n",
       "      <td>1.0</td>\n",
       "      <td>0.0</td>\n",
       "      <td>1.0</td>\n",
       "      <td>1.0</td>\n",
       "      <td>1.0</td>\n",
       "      <td>...</td>\n",
       "      <td>-1.762787</td>\n",
       "      <td>-1.598078</td>\n",
       "      <td>-1.798941</td>\n",
       "      <td>-2.030623</td>\n",
       "      <td>-2.027363</td>\n",
       "      <td>1.851836</td>\n",
       "      <td>-1.708677</td>\n",
       "      <td>-1.710883</td>\n",
       "      <td>-1.835898</td>\n",
       "      <td>-1.913475</td>\n",
       "    </tr>\n",
       "    <tr>\n",
       "      <td>2</td>\n",
       "      <td>1.0</td>\n",
       "      <td>0.0</td>\n",
       "      <td>0.0</td>\n",
       "      <td>0.0</td>\n",
       "      <td>0.0</td>\n",
       "      <td>1.0</td>\n",
       "      <td>0.0</td>\n",
       "      <td>1.0</td>\n",
       "      <td>1.0</td>\n",
       "      <td>0.0</td>\n",
       "      <td>...</td>\n",
       "      <td>1.109903</td>\n",
       "      <td>1.203334</td>\n",
       "      <td>1.176751</td>\n",
       "      <td>0.998103</td>\n",
       "      <td>0.976138</td>\n",
       "      <td>-1.086173</td>\n",
       "      <td>1.082726</td>\n",
       "      <td>1.126259</td>\n",
       "      <td>1.076825</td>\n",
       "      <td>1.023487</td>\n",
       "    </tr>\n",
       "    <tr>\n",
       "      <td>3</td>\n",
       "      <td>1.0</td>\n",
       "      <td>1.0</td>\n",
       "      <td>0.0</td>\n",
       "      <td>0.0</td>\n",
       "      <td>0.0</td>\n",
       "      <td>0.0</td>\n",
       "      <td>1.0</td>\n",
       "      <td>1.0</td>\n",
       "      <td>0.0</td>\n",
       "      <td>1.0</td>\n",
       "      <td>...</td>\n",
       "      <td>-1.762787</td>\n",
       "      <td>-1.598078</td>\n",
       "      <td>-1.798941</td>\n",
       "      <td>-1.273442</td>\n",
       "      <td>-2.027363</td>\n",
       "      <td>0.872500</td>\n",
       "      <td>-1.708677</td>\n",
       "      <td>-0.765169</td>\n",
       "      <td>-0.864990</td>\n",
       "      <td>-0.934488</td>\n",
       "    </tr>\n",
       "    <tr>\n",
       "      <td>4</td>\n",
       "      <td>1.0</td>\n",
       "      <td>1.0</td>\n",
       "      <td>0.0</td>\n",
       "      <td>0.0</td>\n",
       "      <td>0.0</td>\n",
       "      <td>1.0</td>\n",
       "      <td>1.0</td>\n",
       "      <td>1.0</td>\n",
       "      <td>0.0</td>\n",
       "      <td>0.0</td>\n",
       "      <td>...</td>\n",
       "      <td>-1.762787</td>\n",
       "      <td>-1.598078</td>\n",
       "      <td>-1.798941</td>\n",
       "      <td>-2.030623</td>\n",
       "      <td>-2.027363</td>\n",
       "      <td>1.851836</td>\n",
       "      <td>-0.778209</td>\n",
       "      <td>-0.765169</td>\n",
       "      <td>-1.835898</td>\n",
       "      <td>-1.913475</td>\n",
       "    </tr>\n",
       "    <tr>\n",
       "      <td>...</td>\n",
       "      <td>...</td>\n",
       "      <td>...</td>\n",
       "      <td>...</td>\n",
       "      <td>...</td>\n",
       "      <td>...</td>\n",
       "      <td>...</td>\n",
       "      <td>...</td>\n",
       "      <td>...</td>\n",
       "      <td>...</td>\n",
       "      <td>...</td>\n",
       "      <td>...</td>\n",
       "      <td>...</td>\n",
       "      <td>...</td>\n",
       "      <td>...</td>\n",
       "      <td>...</td>\n",
       "      <td>...</td>\n",
       "      <td>...</td>\n",
       "      <td>...</td>\n",
       "      <td>...</td>\n",
       "      <td>...</td>\n",
       "      <td>...</td>\n",
       "    </tr>\n",
       "    <tr>\n",
       "      <td>105</td>\n",
       "      <td>0.0</td>\n",
       "      <td>1.0</td>\n",
       "      <td>1.0</td>\n",
       "      <td>0.0</td>\n",
       "      <td>0.0</td>\n",
       "      <td>1.0</td>\n",
       "      <td>0.0</td>\n",
       "      <td>1.0</td>\n",
       "      <td>0.0</td>\n",
       "      <td>0.0</td>\n",
       "      <td>...</td>\n",
       "      <td>-0.326442</td>\n",
       "      <td>-0.897725</td>\n",
       "      <td>-0.311095</td>\n",
       "      <td>-0.516260</td>\n",
       "      <td>-0.525613</td>\n",
       "      <td>-0.106837</td>\n",
       "      <td>0.152258</td>\n",
       "      <td>0.180545</td>\n",
       "      <td>0.105917</td>\n",
       "      <td>0.044499</td>\n",
       "    </tr>\n",
       "    <tr>\n",
       "      <td>106</td>\n",
       "      <td>0.0</td>\n",
       "      <td>0.0</td>\n",
       "      <td>0.0</td>\n",
       "      <td>0.0</td>\n",
       "      <td>0.0</td>\n",
       "      <td>0.0</td>\n",
       "      <td>0.0</td>\n",
       "      <td>1.0</td>\n",
       "      <td>0.0</td>\n",
       "      <td>0.0</td>\n",
       "      <td>...</td>\n",
       "      <td>-0.326442</td>\n",
       "      <td>-0.897725</td>\n",
       "      <td>-0.311095</td>\n",
       "      <td>-0.516260</td>\n",
       "      <td>-0.525613</td>\n",
       "      <td>-0.106837</td>\n",
       "      <td>0.152258</td>\n",
       "      <td>0.180545</td>\n",
       "      <td>0.105917</td>\n",
       "      <td>0.044499</td>\n",
       "    </tr>\n",
       "    <tr>\n",
       "      <td>107</td>\n",
       "      <td>0.0</td>\n",
       "      <td>0.0</td>\n",
       "      <td>1.0</td>\n",
       "      <td>0.0</td>\n",
       "      <td>0.0</td>\n",
       "      <td>1.0</td>\n",
       "      <td>1.0</td>\n",
       "      <td>1.0</td>\n",
       "      <td>0.0</td>\n",
       "      <td>0.0</td>\n",
       "      <td>...</td>\n",
       "      <td>-0.326442</td>\n",
       "      <td>-0.897725</td>\n",
       "      <td>-0.311095</td>\n",
       "      <td>-0.516260</td>\n",
       "      <td>-0.525613</td>\n",
       "      <td>-0.106837</td>\n",
       "      <td>0.152258</td>\n",
       "      <td>0.180545</td>\n",
       "      <td>0.105917</td>\n",
       "      <td>0.044499</td>\n",
       "    </tr>\n",
       "    <tr>\n",
       "      <td>108</td>\n",
       "      <td>0.0</td>\n",
       "      <td>0.0</td>\n",
       "      <td>0.0</td>\n",
       "      <td>0.0</td>\n",
       "      <td>0.0</td>\n",
       "      <td>1.0</td>\n",
       "      <td>0.0</td>\n",
       "      <td>0.0</td>\n",
       "      <td>0.0</td>\n",
       "      <td>0.0</td>\n",
       "      <td>...</td>\n",
       "      <td>1.109903</td>\n",
       "      <td>1.203334</td>\n",
       "      <td>1.176751</td>\n",
       "      <td>0.998103</td>\n",
       "      <td>0.976138</td>\n",
       "      <td>-1.086173</td>\n",
       "      <td>1.082726</td>\n",
       "      <td>1.126259</td>\n",
       "      <td>1.076825</td>\n",
       "      <td>1.023487</td>\n",
       "    </tr>\n",
       "    <tr>\n",
       "      <td>109</td>\n",
       "      <td>0.0</td>\n",
       "      <td>0.0</td>\n",
       "      <td>0.0</td>\n",
       "      <td>0.0</td>\n",
       "      <td>0.0</td>\n",
       "      <td>0.0</td>\n",
       "      <td>1.0</td>\n",
       "      <td>0.0</td>\n",
       "      <td>0.0</td>\n",
       "      <td>0.0</td>\n",
       "      <td>...</td>\n",
       "      <td>1.109903</td>\n",
       "      <td>1.203334</td>\n",
       "      <td>1.176751</td>\n",
       "      <td>0.998103</td>\n",
       "      <td>0.976138</td>\n",
       "      <td>-1.086173</td>\n",
       "      <td>1.082726</td>\n",
       "      <td>1.126259</td>\n",
       "      <td>1.076825</td>\n",
       "      <td>1.023487</td>\n",
       "    </tr>\n",
       "  </tbody>\n",
       "</table>\n",
       "<p>110 rows × 130 columns</p>\n",
       "</div>"
      ],
      "text/plain": [
       "     Fuma  Aposentado  Desempregado  Licenca_Medica  Aposentado_Invalidez  \\\n",
       "0     1.0         0.0           1.0             0.0                   1.0   \n",
       "1     1.0         0.0           0.0             1.0                   1.0   \n",
       "2     1.0         0.0           0.0             0.0                   0.0   \n",
       "3     1.0         1.0           0.0             0.0                   0.0   \n",
       "4     1.0         1.0           0.0             0.0                   0.0   \n",
       "..    ...         ...           ...             ...                   ...   \n",
       "105   0.0         1.0           1.0             0.0                   0.0   \n",
       "106   0.0         0.0           0.0             0.0                   0.0   \n",
       "107   0.0         0.0           1.0             0.0                   0.0   \n",
       "108   0.0         0.0           0.0             0.0                   0.0   \n",
       "109   0.0         0.0           0.0             0.0                   0.0   \n",
       "\n",
       "     Alg.e9.sicos  OutraDoenca  Dor_costas  Dor_pers  Retorr_trabalho  ...  \\\n",
       "0             1.0          1.0         1.0       1.0              1.0  ...   \n",
       "1             1.0          0.0         1.0       1.0              1.0  ...   \n",
       "2             1.0          0.0         1.0       1.0              0.0  ...   \n",
       "3             0.0          1.0         1.0       0.0              1.0  ...   \n",
       "4             1.0          1.0         1.0       0.0              0.0  ...   \n",
       "..            ...          ...         ...       ...              ...  ...   \n",
       "105           1.0          0.0         1.0       0.0              0.0  ...   \n",
       "106           0.0          0.0         1.0       0.0              0.0  ...   \n",
       "107           1.0          1.0         1.0       0.0              0.0  ...   \n",
       "108           1.0          0.0         0.0       0.0              0.0  ...   \n",
       "109           0.0          1.0         0.0       0.0              0.0  ...   \n",
       "\n",
       "     SF12_M1_3_v1  SF12_M1_4_v1  SF12_M1_5_v1  SF12_M1_6_v1  SF12_M1_7_v1  \\\n",
       "0       -1.762787     -1.598078     -1.798941     -2.030623     -2.027363   \n",
       "1       -1.762787     -1.598078     -1.798941     -2.030623     -2.027363   \n",
       "2        1.109903      1.203334      1.176751      0.998103      0.976138   \n",
       "3       -1.762787     -1.598078     -1.798941     -1.273442     -2.027363   \n",
       "4       -1.762787     -1.598078     -1.798941     -2.030623     -2.027363   \n",
       "..            ...           ...           ...           ...           ...   \n",
       "105     -0.326442     -0.897725     -0.311095     -0.516260     -0.525613   \n",
       "106     -0.326442     -0.897725     -0.311095     -0.516260     -0.525613   \n",
       "107     -0.326442     -0.897725     -0.311095     -0.516260     -0.525613   \n",
       "108      1.109903      1.203334      1.176751      0.998103      0.976138   \n",
       "109      1.109903      1.203334      1.176751      0.998103      0.976138   \n",
       "\n",
       "     SF12_M1_8_v1  SF12_M1_9_v1  SF12_M1_10_v1  SF12_M1_11_v1  SF12_M1_12_v1  \n",
       "0        1.851836     -1.708677      -0.765169      -1.835898      -1.913475  \n",
       "1        1.851836     -1.708677      -1.710883      -1.835898      -1.913475  \n",
       "2       -1.086173      1.082726       1.126259       1.076825       1.023487  \n",
       "3        0.872500     -1.708677      -0.765169      -0.864990      -0.934488  \n",
       "4        1.851836     -0.778209      -0.765169      -1.835898      -1.913475  \n",
       "..            ...           ...            ...            ...            ...  \n",
       "105     -0.106837      0.152258       0.180545       0.105917       0.044499  \n",
       "106     -0.106837      0.152258       0.180545       0.105917       0.044499  \n",
       "107     -0.106837      0.152258       0.180545       0.105917       0.044499  \n",
       "108     -1.086173      1.082726       1.126259       1.076825       1.023487  \n",
       "109     -1.086173      1.082726       1.126259       1.076825       1.023487  \n",
       "\n",
       "[110 rows x 130 columns]"
      ]
     },
     "execution_count": 113,
     "metadata": {},
     "output_type": "execute_result"
    }
   ],
   "source": [
    "data_pca"
   ]
  },
  {
   "cell_type": "markdown",
   "metadata": {},
   "source": [
    "### PCA"
   ]
  },
  {
   "cell_type": "code",
   "execution_count": 117,
   "metadata": {},
   "outputs": [],
   "source": [
    "from sklearn.decomposition import PCA"
   ]
  },
  {
   "cell_type": "code",
   "execution_count": 118,
   "metadata": {},
   "outputs": [],
   "source": [
    "pca = PCA(n_components=10)"
   ]
  },
  {
   "cell_type": "code",
   "execution_count": 119,
   "metadata": {},
   "outputs": [
    {
     "data": {
      "text/plain": [
       "PCA(copy=True, iterated_power='auto', n_components=10, random_state=None,\n",
       "    svd_solver='auto', tol=0.0, whiten=False)"
      ]
     },
     "execution_count": 119,
     "metadata": {},
     "output_type": "execute_result"
    }
   ],
   "source": [
    "pca.fit(data_pca)"
   ]
  },
  {
   "cell_type": "code",
   "execution_count": 120,
   "metadata": {},
   "outputs": [
    {
     "data": {
      "text/plain": [
       "array([0.47738745, 0.11520205, 0.04772711, 0.03878335, 0.03195605,\n",
       "       0.03113927, 0.025614  , 0.0202692 , 0.01704816, 0.01420279])"
      ]
     },
     "execution_count": 120,
     "metadata": {},
     "output_type": "execute_result"
    }
   ],
   "source": [
    "pca.explained_variance_ratio_"
   ]
  },
  {
   "cell_type": "code",
   "execution_count": 121,
   "metadata": {},
   "outputs": [],
   "source": [
    "pca2 = PCA(n_components = 2)"
   ]
  },
  {
   "cell_type": "code",
   "execution_count": 122,
   "metadata": {},
   "outputs": [
    {
     "data": {
      "text/plain": [
       "PCA(copy=True, iterated_power='auto', n_components=2, random_state=None,\n",
       "    svd_solver='auto', tol=0.0, whiten=False)"
      ]
     },
     "execution_count": 122,
     "metadata": {},
     "output_type": "execute_result"
    }
   ],
   "source": [
    "pca2.fit(data_pca)"
   ]
  },
  {
   "cell_type": "code",
   "execution_count": 123,
   "metadata": {},
   "outputs": [],
   "source": [
    "components = pca2.fit_transform(data_pca)"
   ]
  },
  {
   "cell_type": "code",
   "execution_count": 124,
   "metadata": {},
   "outputs": [
    {
     "data": {
      "text/plain": [
       "array([[ 7.61124077, -0.7241188 ],\n",
       "       [12.02725557,  2.49783535],\n",
       "       [-3.73131053, -2.32614488],\n",
       "       [ 5.70033086,  0.5995025 ],\n",
       "       [ 7.34816542,  0.48710731],\n",
       "       [ 2.61249298,  0.56236037],\n",
       "       [ 7.50069381, -0.5368796 ],\n",
       "       [-5.2818167 ,  3.15577142],\n",
       "       [ 1.31309129, -0.70876469],\n",
       "       [-4.68302333, -0.93138375],\n",
       "       [ 0.9265642 , -1.63931232],\n",
       "       [-4.44279837,  3.79385002],\n",
       "       [ 0.48885238,  0.08788803],\n",
       "       [ 1.02108817, -1.21831359],\n",
       "       [-3.48365769,  1.09250914],\n",
       "       [ 0.1533621 , -0.10484273],\n",
       "       [ 0.56522805, -2.657113  ],\n",
       "       [-4.16174907,  2.88184893],\n",
       "       [-0.88480591, -0.4349827 ],\n",
       "       [ 1.81499632, -3.12045146],\n",
       "       [-4.90327333,  3.48030827],\n",
       "       [ 0.5076559 , -2.15351139],\n",
       "       [ 0.78545015, -1.67138216],\n",
       "       [ 1.51445877, -0.79099276],\n",
       "       [-5.24721029,  3.14646524],\n",
       "       [ 2.68464342, -3.17813092],\n",
       "       [-3.58964615, -0.95404836],\n",
       "       [-3.63576866, -0.79178123],\n",
       "       [ 1.23120817, -0.85961148],\n",
       "       [ 0.78238428, -1.39965456],\n",
       "       [ 3.63871876, -1.87202939],\n",
       "       [-0.04526419,  2.06575616],\n",
       "       [ 1.87672759, -2.27404128],\n",
       "       [ 1.29811403, -0.64492648],\n",
       "       [11.99491578,  2.44165154],\n",
       "       [ 1.14767835, -0.49840654],\n",
       "       [ 0.79660815,  0.68169944],\n",
       "       [ 0.99657712, -0.32747459],\n",
       "       [ 1.35575543, -1.21560797],\n",
       "       [-5.32236253,  2.68555118],\n",
       "       [-5.43960467,  2.90678252],\n",
       "       [-3.49442576, -1.11142295],\n",
       "       [-4.14755276,  0.24068156],\n",
       "       [-3.01649825, -2.52878047],\n",
       "       [-4.17664373,  0.61094393],\n",
       "       [ 1.24481214, -0.8162371 ],\n",
       "       [ 2.46252659, -3.55972381],\n",
       "       [ 1.71312002, -1.97804011],\n",
       "       [-4.23216   ,  0.83237899],\n",
       "       [-4.38268265,  0.88786495],\n",
       "       [-4.78623823,  1.6837639 ],\n",
       "       [-4.65367112,  1.77649446],\n",
       "       [-5.10149117,  2.7550613 ],\n",
       "       [-4.80509703,  2.24085511],\n",
       "       [-4.20848833,  0.38824336],\n",
       "       [ 1.53272425, -1.2179846 ],\n",
       "       [ 1.37668546, -1.07720597],\n",
       "       [ 1.06450828, -0.32630993],\n",
       "       [ 1.14264404, -0.3201364 ],\n",
       "       [-4.07618337,  0.36055419],\n",
       "       [ 1.06453754,  0.189148  ],\n",
       "       [ 0.38483614,  2.34729551],\n",
       "       [ 1.58716569, -1.31440703],\n",
       "       [-3.55815352, -0.60570425],\n",
       "       [-5.01924421,  2.94953672],\n",
       "       [-4.84834751,  1.90964166],\n",
       "       [ 1.12437435,  0.25388275],\n",
       "       [-4.47485673,  1.80092193],\n",
       "       [-4.32472185,  1.13889622],\n",
       "       [ 1.05906425,  0.47690634],\n",
       "       [-5.14694576,  2.94425198],\n",
       "       [-4.01483415,  0.18570337],\n",
       "       [ 1.59045715, -1.11901774],\n",
       "       [ 1.32315615, -0.581283  ],\n",
       "       [-3.36883181, -1.11007878],\n",
       "       [-3.20458123,  0.20426239],\n",
       "       [-4.53594449,  1.76899432],\n",
       "       [11.95303922,  2.02315416],\n",
       "       [10.89155602,  5.18951051],\n",
       "       [-4.58709629,  1.2286951 ],\n",
       "       [10.44682433,  5.05779885],\n",
       "       [11.18104725,  4.29910849],\n",
       "       [11.10344374,  3.94916911],\n",
       "       [11.7005505 ,  3.29683233],\n",
       "       [-4.5938832 ,  1.38004118],\n",
       "       [12.35302063,  1.58551552],\n",
       "       [-0.77212855, -3.57097355],\n",
       "       [-4.8106076 ,  2.30333219],\n",
       "       [-0.74467539, -3.54990081],\n",
       "       [-2.03306673, -0.5120793 ],\n",
       "       [-0.22269087, -4.81990594],\n",
       "       [-0.49067945, -0.39335132],\n",
       "       [ 0.87398544, -3.07250726],\n",
       "       [-3.43916487,  2.38414352],\n",
       "       [ 0.74164115, -2.38836591],\n",
       "       [ 1.70860592, -4.90625335],\n",
       "       [-1.52210052, -1.06652945],\n",
       "       [ 0.43927226, -4.6608115 ],\n",
       "       [ 0.90869426, -3.34533866],\n",
       "       [ 1.61552246, -4.16268364],\n",
       "       [ 1.18774374, -3.1182415 ],\n",
       "       [ 0.44913122, -3.37307665],\n",
       "       [-0.20554802, -0.97162209],\n",
       "       [-4.45520214,  3.21194295],\n",
       "       [ 1.25114131, -2.50899118],\n",
       "       [ 0.35695584, -0.44131611],\n",
       "       [-0.8810244 , -1.08741541],\n",
       "       [-0.46447348, -2.37598818],\n",
       "       [-4.71262199,  1.87124198],\n",
       "       [-5.16219656,  2.73193432]])"
      ]
     },
     "execution_count": 124,
     "metadata": {},
     "output_type": "execute_result"
    }
   ],
   "source": [
    "components"
   ]
  },
  {
   "cell_type": "code",
   "execution_count": 125,
   "metadata": {},
   "outputs": [],
   "source": [
    "df_pca = pd.DataFrame(data = components, columns = ['PC1','PC2'])"
   ]
  },
  {
   "cell_type": "markdown",
   "metadata": {},
   "source": [
    "### Plot components"
   ]
  },
  {
   "cell_type": "code",
   "execution_count": 126,
   "metadata": {},
   "outputs": [],
   "source": [
    "from plotnine import *"
   ]
  },
  {
   "cell_type": "code",
   "execution_count": 127,
   "metadata": {},
   "outputs": [
    {
     "data": {
      "image/png": "[encoded data removed]",
      "text/plain": [
       "<Figure size 640x480 with 1 Axes>"
      ]
     },
     "metadata": {},
     "output_type": "display_data"
    },
    {
     "data": {
      "text/plain": [
       "<ggplot: (-9223371957015111772)>"
      ]
     },
     "execution_count": 127,
     "metadata": {},
     "output_type": "execute_result"
    }
   ],
   "source": [
    "(ggplot(df_pca) + \n",
    " aes(x = 'PC1', y= 'PC2') + \n",
    " geom_point())"
   ]
  },
  {
   "cell_type": "markdown",
   "metadata": {},
   "source": [
    "# ML"
   ]
  },
  {
   "cell_type": "markdown",
   "metadata": {},
   "source": [
    "### Random Forest"
   ]
  },
  {
   "cell_type": "code",
   "execution_count": 128,
   "metadata": {},
   "outputs": [],
   "source": [
    "df = data_pca"
   ]
  },
  {
   "cell_type": "code",
   "execution_count": 132,
   "metadata": {},
   "outputs": [],
   "source": [
    "X = df['D30']\n",
    "y = df.drop('D30', axis = 1)"
   ]
  },
  {
   "cell_type": "code",
   "execution_count": 133,
   "metadata": {},
   "outputs": [],
   "source": [
    "from sklearn.model_selection import train_test_split"
   ]
  },
  {
   "cell_type": "code",
   "execution_count": null,
   "metadata": {},
   "outputs": [],
   "source": [
    "X_train, X_test, y_train, y_test = train_test_split(X,y, test_)"
   ]
  }
 ],
 "metadata": {
  "kernelspec": {
   "display_name": "Python 3",
   "language": "python",
   "name": "python3"
  },
  "language_info": {
   "codemirror_mode": {
    "name": "ipython",
    "version": 3
   },
   "file_extension": ".py",
   "mimetype": "text/x-python",
   "name": "python",
   "nbconvert_exporter": "python",
   "pygments_lexer": "ipython3",
   "version": "3.7.4"
  }
 },
 "nbformat": 4,
 "nbformat_minor": 2
}
